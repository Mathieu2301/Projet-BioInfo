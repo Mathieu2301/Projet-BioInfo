{
 "cells": [
  {
   "cell_type": "markdown",
   "metadata": {},
   "source": [
    "# Introduction"
   ]
  },
  {
   "cell_type": "code",
   "execution_count": null,
   "metadata": {},
   "outputs": [],
   "source": [
    "from Bio.Seq import Seq\n",
    "from Bio.SeqRecord import SeqRecord\n",
    "from Bio import Entrez\n",
    "from Bio import SeqIO\n",
    "\n",
    "# On définit les séquences qu'on veut récupérer\n",
    "# On les nomme en indice pour savoir quelle est la première, la seconde, etc...\n",
    "SEQUENCES = {\n",
    "  'HOMME': 'SARS-Cov2 [ORGN] AND srcdb_refseq [PROP]',\n",
    "  'CHAUVE-SOURIS': 'SARSr-CoV RaTG13',\n",
    "  'PANGOLIN': 'Pangolin coronavirus isolate MP789 MT121216',\n",
    "}"
   ]
  },
  {
   "cell_type": "markdown",
   "metadata": {},
   "source": [
    "## Partie A"
   ]
  },
  {
   "cell_type": "code",
   "execution_count": null,
   "metadata": {},
   "outputs": [],
   "source": [
    "Entrez.email = 'mathieu@colmon.fr'\n",
    "\n",
    "# On fait une fonction pour récupérer le premier\n",
    "# résultat d'une requête sous forme d'un objet Seq\n",
    "def getSeq(request):\n",
    "  # On exécute la requête demandée\n",
    "  searchReq = Entrez.esearch(db='nucleotide', term=request)\n",
    "  # On lit le résultat\n",
    "  searchRes = Entrez.read(searchReq)\n",
    "  # On ferme la requête\n",
    "  searchReq.close()\n",
    "\n",
    "  # On demande le premier résultat\n",
    "  firstReq = Entrez.efetch(db='nucleotide', id=searchRes['IdList'], rettype='gb')\n",
    "  # On lit le résultat\n",
    "  firstRes = SeqIO.read(firstReq, 'gb')\n",
    "  # On ferme la requête\n",
    "  firstReq.close()\n",
    "\n",
    "  return firstRes\n",
    "\n",
    "# On crée une liste qui stockera les séquences\n",
    "SEQs = []\n",
    "\n",
    "# Pour chaque séquence demandée\n",
    "for sName in SEQUENCES:\n",
    "  # On traite la requête et on stocke le résustat dans 'SEQs'\n",
    "  SEQs.append(getSeq(SEQUENCES[sName]))\n",
    "\n",
    "# On écrit le résultat dans le fichier 'seq_covid.gb'\n",
    "SeqIO.write(SEQs, './sequences/seq_covid.gb', 'genbank')\n",
    "\n",
    "# Log #\n",
    "print('Séquences des coronavirus écrites dans le fichier \\'./sequences/seq_covid.gb\\' !')"
   ]
  },
  {
   "cell_type": "markdown",
   "metadata": {},
   "source": [
    "## Partie B"
   ]
  },
  {
   "cell_type": "code",
   "execution_count": null,
   "metadata": {},
   "outputs": [],
   "source": [
    "SEQs = SeqIO.parse('./sequences/seq_covid.gb', 'genbank')\n",
    "\n",
    "SPIKEs = []\n",
    "\n",
    "# Pour chaque séquence de coronavirus\n",
    "for seq in SEQs:\n",
    "  for f in seq.features:\n",
    "    # Si le type est 'gene', on vérifie si son nom est 'S'\n",
    "    if f.type == 'gene' and f.qualifiers.get('gene')[0] == 'S':\n",
    "      # On ajoute à la liste de séquences 'SPIKEs'\n",
    "      SPIKEs.append(f.translate(seq))\n",
    "\n",
    "# On écrit le contenu de 'SPIKEs' dans le fichier 'spike.fasta'\n",
    "SeqIO.write(SPIKEs, './sequences/spike.fasta', 'fasta')\n",
    "\n",
    "# Log #\n",
    "print('Séquences des gènes écrites dans le fichier \\'./sequences/spike.fasta\\' !')"
   ]
  },
  {
   "cell_type": "markdown",
   "metadata": {},
   "source": [
    "## Partie C"
   ]
  },
  {
   "cell_type": "code",
   "execution_count": null,
   "metadata": {},
   "outputs": [],
   "source": [
    "# On importe le module permettant d'aligner les séquences\n",
    "from Bio.Align.Applications import MafftCommandline\n",
    "from os import path\n",
    "from platform import system"
   ]
  },
  {
   "cell_type": "code",
   "execution_count": null,
   "metadata": {},
   "outputs": [],
   "source": [
    "# Par défaut (sur Linux) le moyen d'accéder à MAFFT est la commande 'mafft'\n",
    "mafftPath = 'mafft'\n",
    "\n",
    "# Sur Windows, MAFFT n'est accessible depuis la commande 'mafft'.\n",
    "if system()== 'Windows':\n",
    "  # On cherche donc le chemin d'accès absolu du fichier './mafft-win/mafft.bat'\n",
    "  mafftPath = path.abspath('./mafft-win/mafft.bat')\n",
    "\n",
    "# On Aligne les séquences du fichier 'spike.fasta'\n",
    "stdout, stderr = MafftCommandline(cmd=mafftPath, input='./sequences/spike.fasta')()\n",
    "\n",
    "# On écrit le résultat dans 'aln-spike.fasta'\n",
    "with open('./sequences/aln-spike.fasta', 'w') as w:\n",
    "  w.write(stdout)\n",
    "\n",
    "# Log #\n",
    "print('Séquences alignées dans le fichier \\'./sequences/aln-spike.fasta\\' !')"
   ]
  },
  {
   "cell_type": "markdown",
   "metadata": {},
   "source": [
    "## Partie D"
   ]
  },
  {
   "cell_type": "code",
   "execution_count": null,
   "metadata": {},
   "outputs": [],
   "source": [
    "# On récupère toutes les séquences alignées\n",
    "SEQs = SeqIO.parse('./sequences/aln-spike.fasta', 'fasta')\n",
    "\n",
    "# On crée une liste qui contiendra les séquences sous forme de chaines de caractères\n",
    "rawSeqs = []\n",
    "\n",
    "# Pour chaque séquence alignée\n",
    "for seq in SEQs:\n",
    "  # On stocke la séquence sous forme de chaine de caractère dans 'rawSeqs'\n",
    "  rawSeqs.append(seq.seq)\n",
    "\n",
    "# On crée une liste qui contiendra les noms des colonnes du tableau résultat\n",
    "indexes = list(SEQUENCES.keys())\n",
    "# La première colonne est celle de la position\n",
    "indexes.insert(0, 'POSITION')\n",
    "\n",
    "# On ouvre le fichier qui contiendra les résultats des comparaisons\n",
    "file = open('./sequences/resultatComparaison_geneS.txt', 'w')\n",
    "\n",
    "# On stocke le nombre de lignes écrites dans une variable de manière à\n",
    "# pouvoir afficher toutes les n (50) lignes les noms des indices\n",
    "nbLines = 0\n",
    "\n",
    "# On crée une fonction qui permet à la fois d'afficher une ligne\n",
    "# dans la console, et de stocker la ligne dans le fichier résultat\n",
    "def printTableLine(data):\n",
    "  # On importe la variable globale 'nbLines'\n",
    "  global nbLines\n",
    "  # On incrémente la variable 'nbLines'\n",
    "  nbLines += 1\n",
    "  # Si l'indice de la ligne (nbLines - 1) est un multiple de 50\n",
    "  if (nbLines - 1) % 50 == 0:\n",
    "    # On affiche et stocke les indices\n",
    "    printTableLine(indexes)\n",
    "\n",
    "  # On formatte la ligne du tableau\n",
    "  formattedRow = '{: >8} {: >15} {: >15} {: >15}'.format(*data)\n",
    "  # On l'écrit dans le fichier résultat\n",
    "  file.write(formattedRow + '\\n')\n",
    "  # On l'écrit dans la console\n",
    "  print(formattedRow)\n",
    "\n",
    "# Les séquences sont alignées donc elles ont le même nombre de caractères.\n",
    "# Pour chaque caractère de la (première) séquence\n",
    "for pos in range(len(rawSeqs[0]) - 1):\n",
    "  # Pour chaque séquence...\n",
    "  for rawSeq in rawSeqs:\n",
    "    # S'il y a une différence du n ième caractère entre\n",
    "    # la première séquence et la séquence 'rawSeq'\n",
    "    if rawSeq[pos] != rawSeqs[0][pos]:\n",
    "      # On crée une liste qui correspond au changement du n ième caractère\n",
    "      change = [pos]\n",
    "      # Pour chaque indice de la liste des séquences alignées\n",
    "      for iSeq in range(len(rawSeqs)):\n",
    "        # On ajoute les changements dans la liste\n",
    "        change.append(rawSeqs[iSeq][pos])\n",
    "\n",
    "      # On ajoute la ligne au tableau des changements\n",
    "      printTableLine(change)\n",
    "      # On passe au caractère suivant\n",
    "      break\n",
    "\n",
    "# On ferme le fichier\n",
    "file.close()"
   ]
  }
 ],
 "metadata": {
  "interpreter": {
   "hash": "63fd5069d213b44bf678585dea6b12cceca9941eaf7f819626cde1f2670de90d"
  },
  "kernelspec": {
   "display_name": "Python 3.9.5 64-bit",
   "language": "python",
   "name": "python3"
  },
  "language_info": {
   "codemirror_mode": {
    "name": "ipython",
    "version": 3
   },
   "file_extension": ".py",
   "mimetype": "text/x-python",
   "name": "python",
   "nbconvert_exporter": "python",
   "pygments_lexer": "ipython3",
   "version": "3.9.5"
  },
  "orig_nbformat": 4
 },
 "nbformat": 4,
 "nbformat_minor": 2
}
